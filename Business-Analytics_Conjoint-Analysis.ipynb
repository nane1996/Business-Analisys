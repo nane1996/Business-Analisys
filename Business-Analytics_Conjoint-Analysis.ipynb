{
 "cells": [
  {
   "cell_type": "markdown",
   "metadata": {},
   "source": [
    "# Conjoint Analysis\n",
    "\n"
   ]
  },
  {
   "cell_type": "code",
   "execution_count": 1,
   "metadata": {},
   "outputs": [],
   "source": [
    "import pandas as pd\n",
    "from statsmodels.formula.api import ols"
   ]
  },
  {
   "cell_type": "code",
   "execution_count": 6,
   "metadata": {},
   "outputs": [],
   "source": [
    "data = pd.read_excel(\"Mdaaa.xlsx\")"
   ]
  },
  {
   "cell_type": "code",
   "execution_count": 8,
   "metadata": {},
   "outputs": [],
   "source": [
    "model_ols = ols(formula = \"Satisfaction ~ SaY + SaN + DB + DHR + DD + DT + SS + SM + SMM + SB + Long + Fewk + Fewp + Fews + Few + B + C + E + H + IT\", data = data)"
   ]
  },
  {
   "cell_type": "code",
   "execution_count": 9,
   "metadata": {},
   "outputs": [],
   "source": [
    "our_results = model_ols.fit()\n"
   ]
  },
  {
   "cell_type": "code",
   "execution_count": 10,
   "metadata": {},
   "outputs": [
    {
     "data": {
      "text/html": [
       "<table class=\"simpletable\">\n",
       "<caption>OLS Regression Results</caption>\n",
       "<tr>\n",
       "  <th>Dep. Variable:</th>      <td>Satisfaction</td>   <th>  R-squared:         </th> <td>   0.140</td>\n",
       "</tr>\n",
       "<tr>\n",
       "  <th>Model:</th>                   <td>OLS</td>       <th>  Adj. R-squared:    </th> <td>   0.060</td>\n",
       "</tr>\n",
       "<tr>\n",
       "  <th>Method:</th>             <td>Least Squares</td>  <th>  F-statistic:       </th> <td>   1.748</td>\n",
       "</tr>\n",
       "<tr>\n",
       "  <th>Date:</th>             <td>Sat, 11 May 2019</td> <th>  Prob (F-statistic):</th>  <td>0.0380</td> \n",
       "</tr>\n",
       "<tr>\n",
       "  <th>Time:</th>                 <td>09:58:06</td>     <th>  Log-Likelihood:    </th> <td> -254.09</td>\n",
       "</tr>\n",
       "<tr>\n",
       "  <th>No. Observations:</th>      <td>   200</td>      <th>  AIC:               </th> <td>   544.2</td>\n",
       "</tr>\n",
       "<tr>\n",
       "  <th>Df Residuals:</th>          <td>   182</td>      <th>  BIC:               </th> <td>   603.5</td>\n",
       "</tr>\n",
       "<tr>\n",
       "  <th>Df Model:</th>              <td>    17</td>      <th>                     </th>     <td> </td>   \n",
       "</tr>\n",
       "<tr>\n",
       "  <th>Covariance Type:</th>      <td>nonrobust</td>    <th>                     </th>     <td> </td>   \n",
       "</tr>\n",
       "</table>\n",
       "<table class=\"simpletable\">\n",
       "<tr>\n",
       "      <td></td>         <th>coef</th>     <th>std err</th>      <th>t</th>      <th>P>|t|</th>  <th>[0.025</th>    <th>0.975]</th>  \n",
       "</tr>\n",
       "<tr>\n",
       "  <th>Intercept</th> <td>    1.8050</td> <td>    0.175</td> <td>   10.303</td> <td> 0.000</td> <td>    1.459</td> <td>    2.151</td>\n",
       "</tr>\n",
       "<tr>\n",
       "  <th>SaY</th>       <td>    0.9754</td> <td>    0.126</td> <td>    7.746</td> <td> 0.000</td> <td>    0.727</td> <td>    1.224</td>\n",
       "</tr>\n",
       "<tr>\n",
       "  <th>SaN</th>       <td>    0.8297</td> <td>    0.173</td> <td>    4.788</td> <td> 0.000</td> <td>    0.488</td> <td>    1.172</td>\n",
       "</tr>\n",
       "<tr>\n",
       "  <th>DB</th>        <td>    0.3591</td> <td>    0.121</td> <td>    2.979</td> <td> 0.003</td> <td>    0.121</td> <td>    0.597</td>\n",
       "</tr>\n",
       "<tr>\n",
       "  <th>DHR</th>       <td>    0.3224</td> <td>    0.202</td> <td>    1.598</td> <td> 0.112</td> <td>   -0.076</td> <td>    0.720</td>\n",
       "</tr>\n",
       "<tr>\n",
       "  <th>DD</th>        <td>    0.6288</td> <td>    0.268</td> <td>    2.343</td> <td> 0.020</td> <td>    0.099</td> <td>    1.158</td>\n",
       "</tr>\n",
       "<tr>\n",
       "  <th>DT</th>        <td>    0.4948</td> <td>    0.156</td> <td>    3.167</td> <td> 0.002</td> <td>    0.187</td> <td>    0.803</td>\n",
       "</tr>\n",
       "<tr>\n",
       "  <th>SS</th>        <td>    0.1573</td> <td>    0.188</td> <td>    0.839</td> <td> 0.403</td> <td>   -0.213</td> <td>    0.527</td>\n",
       "</tr>\n",
       "<tr>\n",
       "  <th>SM</th>        <td>    0.6237</td> <td>    0.117</td> <td>    5.349</td> <td> 0.000</td> <td>    0.394</td> <td>    0.854</td>\n",
       "</tr>\n",
       "<tr>\n",
       "  <th>SMM</th>       <td>    0.5789</td> <td>    0.129</td> <td>    4.477</td> <td> 0.000</td> <td>    0.324</td> <td>    0.834</td>\n",
       "</tr>\n",
       "<tr>\n",
       "  <th>SB</th>        <td>    0.4451</td> <td>    0.122</td> <td>    3.663</td> <td> 0.000</td> <td>    0.205</td> <td>    0.685</td>\n",
       "</tr>\n",
       "<tr>\n",
       "  <th>Long</th>      <td>    0.3253</td> <td>    0.338</td> <td>    0.963</td> <td> 0.337</td> <td>   -0.341</td> <td>    0.992</td>\n",
       "</tr>\n",
       "<tr>\n",
       "  <th>Fewk</th>      <td>    0.4028</td> <td>    0.338</td> <td>    1.193</td> <td> 0.234</td> <td>   -0.263</td> <td>    1.069</td>\n",
       "</tr>\n",
       "<tr>\n",
       "  <th>Fewp</th>      <td>    0.4865</td> <td>    0.348</td> <td>    1.400</td> <td> 0.163</td> <td>   -0.199</td> <td>    1.172</td>\n",
       "</tr>\n",
       "<tr>\n",
       "  <th>Fews</th>      <td>    0.4273</td> <td>    0.338</td> <td>    1.263</td> <td> 0.208</td> <td>   -0.240</td> <td>    1.095</td>\n",
       "</tr>\n",
       "<tr>\n",
       "  <th>Few</th>       <td>   -0.0397</td> <td>    0.443</td> <td>   -0.090</td> <td> 0.929</td> <td>   -0.915</td> <td>    0.835</td>\n",
       "</tr>\n",
       "<tr>\n",
       "  <th>B</th>         <td>   -0.5301</td> <td>    0.248</td> <td>   -2.139</td> <td> 0.034</td> <td>   -1.019</td> <td>   -0.041</td>\n",
       "</tr>\n",
       "<tr>\n",
       "  <th>C</th>         <td>   -0.4117</td> <td>    0.299</td> <td>   -1.376</td> <td> 0.171</td> <td>   -1.002</td> <td>    0.179</td>\n",
       "</tr>\n",
       "<tr>\n",
       "  <th>E</th>         <td>    0.1018</td> <td>    0.252</td> <td>    0.404</td> <td> 0.687</td> <td>   -0.395</td> <td>    0.599</td>\n",
       "</tr>\n",
       "<tr>\n",
       "  <th>H</th>         <td>   -0.5338</td> <td>    0.313</td> <td>   -1.706</td> <td> 0.090</td> <td>   -1.151</td> <td>    0.084</td>\n",
       "</tr>\n",
       "<tr>\n",
       "  <th>IT</th>        <td>    0.0506</td> <td>    0.172</td> <td>    0.294</td> <td> 0.769</td> <td>   -0.289</td> <td>    0.390</td>\n",
       "</tr>\n",
       "</table>\n",
       "<table class=\"simpletable\">\n",
       "<tr>\n",
       "  <th>Omnibus:</th>       <td>22.758</td> <th>  Durbin-Watson:     </th> <td>   1.951</td>\n",
       "</tr>\n",
       "<tr>\n",
       "  <th>Prob(Omnibus):</th> <td> 0.000</td> <th>  Jarque-Bera (JB):  </th> <td>  27.398</td>\n",
       "</tr>\n",
       "<tr>\n",
       "  <th>Skew:</th>          <td>-0.799</td> <th>  Prob(JB):          </th> <td>1.12e-06</td>\n",
       "</tr>\n",
       "<tr>\n",
       "  <th>Kurtosis:</th>      <td> 3.857</td> <th>  Cond. No.          </th> <td>1.82e+17</td>\n",
       "</tr>\n",
       "</table><br/><br/>Warnings:<br/>[1] Standard Errors assume that the covariance matrix of the errors is correctly specified.<br/>[2] The smallest eigenvalue is 1.82e-32. This might indicate that there are<br/>strong multicollinearity problems or that the design matrix is singular."
      ],
      "text/plain": [
       "<class 'statsmodels.iolib.summary.Summary'>\n",
       "\"\"\"\n",
       "                            OLS Regression Results                            \n",
       "==============================================================================\n",
       "Dep. Variable:           Satisfaction   R-squared:                       0.140\n",
       "Model:                            OLS   Adj. R-squared:                  0.060\n",
       "Method:                 Least Squares   F-statistic:                     1.748\n",
       "Date:                Sat, 11 May 2019   Prob (F-statistic):             0.0380\n",
       "Time:                        09:58:06   Log-Likelihood:                -254.09\n",
       "No. Observations:                 200   AIC:                             544.2\n",
       "Df Residuals:                     182   BIC:                             603.5\n",
       "Df Model:                          17                                         \n",
       "Covariance Type:            nonrobust                                         \n",
       "==============================================================================\n",
       "                 coef    std err          t      P>|t|      [0.025      0.975]\n",
       "------------------------------------------------------------------------------\n",
       "Intercept      1.8050      0.175     10.303      0.000       1.459       2.151\n",
       "SaY            0.9754      0.126      7.746      0.000       0.727       1.224\n",
       "SaN            0.8297      0.173      4.788      0.000       0.488       1.172\n",
       "DB             0.3591      0.121      2.979      0.003       0.121       0.597\n",
       "DHR            0.3224      0.202      1.598      0.112      -0.076       0.720\n",
       "DD             0.6288      0.268      2.343      0.020       0.099       1.158\n",
       "DT             0.4948      0.156      3.167      0.002       0.187       0.803\n",
       "SS             0.1573      0.188      0.839      0.403      -0.213       0.527\n",
       "SM             0.6237      0.117      5.349      0.000       0.394       0.854\n",
       "SMM            0.5789      0.129      4.477      0.000       0.324       0.834\n",
       "SB             0.4451      0.122      3.663      0.000       0.205       0.685\n",
       "Long           0.3253      0.338      0.963      0.337      -0.341       0.992\n",
       "Fewk           0.4028      0.338      1.193      0.234      -0.263       1.069\n",
       "Fewp           0.4865      0.348      1.400      0.163      -0.199       1.172\n",
       "Fews           0.4273      0.338      1.263      0.208      -0.240       1.095\n",
       "Few           -0.0397      0.443     -0.090      0.929      -0.915       0.835\n",
       "B             -0.5301      0.248     -2.139      0.034      -1.019      -0.041\n",
       "C             -0.4117      0.299     -1.376      0.171      -1.002       0.179\n",
       "E              0.1018      0.252      0.404      0.687      -0.395       0.599\n",
       "H             -0.5338      0.313     -1.706      0.090      -1.151       0.084\n",
       "IT             0.0506      0.172      0.294      0.769      -0.289       0.390\n",
       "==============================================================================\n",
       "Omnibus:                       22.758   Durbin-Watson:                   1.951\n",
       "Prob(Omnibus):                  0.000   Jarque-Bera (JB):               27.398\n",
       "Skew:                          -0.799   Prob(JB):                     1.12e-06\n",
       "Kurtosis:                       3.857   Cond. No.                     1.82e+17\n",
       "==============================================================================\n",
       "\n",
       "Warnings:\n",
       "[1] Standard Errors assume that the covariance matrix of the errors is correctly specified.\n",
       "[2] The smallest eigenvalue is 1.82e-32. This might indicate that there are\n",
       "strong multicollinearity problems or that the design matrix is singular.\n",
       "\"\"\""
      ]
     },
     "execution_count": 10,
     "metadata": {},
     "output_type": "execute_result"
    }
   ],
   "source": [
    "our_results.summary()"
   ]
  },
  {
   "cell_type": "code",
   "execution_count": 14,
   "metadata": {},
   "outputs": [],
   "source": [
    "coef = our_results.params\n"
   ]
  },
  {
   "cell_type": "code",
   "execution_count": 12,
   "metadata": {},
   "outputs": [],
   "source": [
    "coef_DF = pd.DataFrame(coef)\n"
   ]
  },
  {
   "cell_type": "code",
   "execution_count": 13,
   "metadata": {},
   "outputs": [],
   "source": [
    "coef_DF.to_excel(\"coef.xlsx\")"
   ]
  }
 ],
 "metadata": {
  "kernelspec": {
   "display_name": "Python 3",
   "language": "python",
   "name": "python3"
  },
  "language_info": {
   "codemirror_mode": {
    "name": "ipython",
    "version": 3
   },
   "file_extension": ".py",
   "mimetype": "text/x-python",
   "name": "python",
   "nbconvert_exporter": "python",
   "pygments_lexer": "ipython3",
   "version": "3.7.1"
  }
 },
 "nbformat": 4,
 "nbformat_minor": 2
}
