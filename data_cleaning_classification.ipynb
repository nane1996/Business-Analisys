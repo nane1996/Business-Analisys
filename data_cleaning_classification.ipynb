{
 "cells": [
  {
   "cell_type": "code",
   "execution_count": 1,
   "metadata": {},
   "outputs": [],
   "source": [
    "import numpy as np\n",
    "import pandas as pd "
   ]
  },
  {
   "cell_type": "code",
   "execution_count": 3,
   "metadata": {},
   "outputs": [],
   "source": [
    "df=pd.read_excel(\"BA.xlsx\") "
   ]
  },
  {
   "cell_type": "code",
   "execution_count": 4,
   "metadata": {},
   "outputs": [
    {
     "name": "stdout",
     "output_type": "stream",
     "text": [
      "<class 'pandas.core.frame.DataFrame'>\n",
      "RangeIndex: 3417 entries, 0 to 3416\n",
      "Data columns (total 12 columns):\n",
      "Department      3417 non-null object\n",
      "Duration        3417 non-null object\n",
      "Industry        3417 non-null object\n",
      "Size            3417 non-null object\n",
      "Satisfaction    3417 non-null int64\n",
      "Salary          3417 non-null object\n",
      "Most            3417 non-null object\n",
      "Least           3400 non-null object\n",
      "Churn           3417 non-null object\n",
      "Gender          3417 non-null object\n",
      "Year            3417 non-null object\n",
      "Major           3417 non-null object\n",
      "dtypes: int64(1), object(11)\n",
      "memory usage: 320.4+ KB\n"
     ]
    }
   ],
   "source": [
    "df.info()"
   ]
  },
  {
   "cell_type": "code",
   "execution_count": 32,
   "metadata": {},
   "outputs": [],
   "source": [
    "df.drop(\"Timestamp\", axis = 1,inplace=True)"
   ]
  },
  {
   "cell_type": "code",
   "execution_count": 33,
   "metadata": {},
   "outputs": [],
   "source": [
    "df['Leave']=df.Churn.replace(\"Yes\", 1).replace(\"No\",2).replace(\"Maybe\",3)\n"
   ]
  },
  {
   "cell_type": "code",
   "execution_count": 34,
   "metadata": {},
   "outputs": [],
   "source": [
    "df['Salary']=df.Salary.replace(\"Yes\", 0).replace(\"No\",1)\n"
   ]
  },
  {
   "cell_type": "code",
   "execution_count": 35,
   "metadata": {},
   "outputs": [
    {
     "data": {
      "text/html": [
       "<div>\n",
       "<style scoped>\n",
       "    .dataframe tbody tr th:only-of-type {\n",
       "        vertical-align: middle;\n",
       "    }\n",
       "\n",
       "    .dataframe tbody tr th {\n",
       "        vertical-align: top;\n",
       "    }\n",
       "\n",
       "    .dataframe thead th {\n",
       "        text-align: right;\n",
       "    }\n",
       "</style>\n",
       "<table border=\"1\" class=\"dataframe\">\n",
       "  <thead>\n",
       "    <tr style=\"text-align: right;\">\n",
       "      <th></th>\n",
       "      <th>Department</th>\n",
       "      <th>Duration</th>\n",
       "      <th>Industry</th>\n",
       "      <th>Size</th>\n",
       "      <th>Satisfaction</th>\n",
       "      <th>Salary</th>\n",
       "      <th>Most</th>\n",
       "      <th>Least</th>\n",
       "      <th>Churn</th>\n",
       "      <th>Gender</th>\n",
       "      <th>Year</th>\n",
       "      <th>Major</th>\n",
       "      <th>Leave</th>\n",
       "    </tr>\n",
       "  </thead>\n",
       "  <tbody>\n",
       "    <tr>\n",
       "      <th>0</th>\n",
       "      <td>Marketing</td>\n",
       "      <td>4-6 months</td>\n",
       "      <td>Foundation</td>\n",
       "      <td>16 - 50 employees</td>\n",
       "      <td>4</td>\n",
       "      <td>0</td>\n",
       "      <td>Salary, Professional Development, Personal Bra...</td>\n",
       "      <td>Location of the office, Perks &amp; Benefits, Job ...</td>\n",
       "      <td>Yes</td>\n",
       "      <td>Male</td>\n",
       "      <td>4th year</td>\n",
       "      <td>Business</td>\n",
       "      <td>1</td>\n",
       "    </tr>\n",
       "    <tr>\n",
       "      <th>1</th>\n",
       "      <td>Artificial Intelligence</td>\n",
       "      <td>1 - 2 years</td>\n",
       "      <td>Information Technology (IT)</td>\n",
       "      <td>More than 51 employees</td>\n",
       "      <td>4</td>\n",
       "      <td>0</td>\n",
       "      <td>Salary, Professional Development, Company Cult...</td>\n",
       "      <td>Personal Branding, Company's Brand, Company's ...</td>\n",
       "      <td>Maybe</td>\n",
       "      <td>Male</td>\n",
       "      <td>4th year</td>\n",
       "      <td>Computer Science</td>\n",
       "      <td>3</td>\n",
       "    </tr>\n",
       "    <tr>\n",
       "      <th>2</th>\n",
       "      <td>Development</td>\n",
       "      <td>1 - 2 years</td>\n",
       "      <td>Information Technology (IT)</td>\n",
       "      <td>More than 51 employees</td>\n",
       "      <td>4</td>\n",
       "      <td>0</td>\n",
       "      <td>Salary, Professional Development, Interesting ...</td>\n",
       "      <td>Company's Mission, Location of the office, Job...</td>\n",
       "      <td>Maybe</td>\n",
       "      <td>Male</td>\n",
       "      <td>4th year</td>\n",
       "      <td>Business</td>\n",
       "      <td>3</td>\n",
       "    </tr>\n",
       "    <tr>\n",
       "      <th>3</th>\n",
       "      <td>Marketing</td>\n",
       "      <td>7-12 months</td>\n",
       "      <td>Information Technology (IT)</td>\n",
       "      <td>16 - 50 employees</td>\n",
       "      <td>4</td>\n",
       "      <td>0</td>\n",
       "      <td>Salary, Professional Development, Company's Br...</td>\n",
       "      <td>Personal Branding, Location of the office, Job...</td>\n",
       "      <td>Maybe</td>\n",
       "      <td>Female</td>\n",
       "      <td>4th year</td>\n",
       "      <td>Business</td>\n",
       "      <td>3</td>\n",
       "    </tr>\n",
       "    <tr>\n",
       "      <th>4</th>\n",
       "      <td>Recruitment</td>\n",
       "      <td>4-6 months</td>\n",
       "      <td>Recruitment</td>\n",
       "      <td>6 - 15 employees</td>\n",
       "      <td>5</td>\n",
       "      <td>0</td>\n",
       "      <td>Team, Team Lead, Schedule</td>\n",
       "      <td>Location of the office</td>\n",
       "      <td>Maybe</td>\n",
       "      <td>Female</td>\n",
       "      <td>4th year</td>\n",
       "      <td>Computer Science</td>\n",
       "      <td>3</td>\n",
       "    </tr>\n",
       "  </tbody>\n",
       "</table>\n",
       "</div>"
      ],
      "text/plain": [
       "                Department     Duration                     Industry  \\\n",
       "0                Marketing   4-6 months                   Foundation   \n",
       "1  Artificial Intelligence  1 - 2 years  Information Technology (IT)   \n",
       "2              Development  1 - 2 years  Information Technology (IT)   \n",
       "3                Marketing  7-12 months  Information Technology (IT)   \n",
       "4              Recruitment   4-6 months                  Recruitment   \n",
       "\n",
       "                     Size  Satisfaction  Salary  \\\n",
       "0       16 - 50 employees             4       0   \n",
       "1  More than 51 employees             4       0   \n",
       "2  More than 51 employees             4       0   \n",
       "3       16 - 50 employees             4       0   \n",
       "4        6 - 15 employees             5       0   \n",
       "\n",
       "                                                Most  \\\n",
       "0  Salary, Professional Development, Personal Bra...   \n",
       "1  Salary, Professional Development, Company Cult...   \n",
       "2  Salary, Professional Development, Interesting ...   \n",
       "3  Salary, Professional Development, Company's Br...   \n",
       "4                          Team, Team Lead, Schedule   \n",
       "\n",
       "                                               Least  Churn  Gender      Year  \\\n",
       "0  Location of the office, Perks & Benefits, Job ...    Yes    Male  4th year   \n",
       "1  Personal Branding, Company's Brand, Company's ...  Maybe    Male  4th year   \n",
       "2  Company's Mission, Location of the office, Job...  Maybe    Male  4th year   \n",
       "3  Personal Branding, Location of the office, Job...  Maybe  Female  4th year   \n",
       "4                             Location of the office  Maybe  Female  4th year   \n",
       "\n",
       "              Major  Leave  \n",
       "0          Business      1  \n",
       "1  Computer Science      3  \n",
       "2          Business      3  \n",
       "3          Business      3  \n",
       "4  Computer Science      3  "
      ]
     },
     "execution_count": 35,
     "metadata": {},
     "output_type": "execute_result"
    }
   ],
   "source": [
    "df.head()"
   ]
  },
  {
   "cell_type": "code",
   "execution_count": 36,
   "metadata": {},
   "outputs": [],
   "source": [
    "df.drop(\"Churn\", axis=1, inplace=True)"
   ]
  },
  {
   "cell_type": "code",
   "execution_count": 37,
   "metadata": {},
   "outputs": [],
   "source": [
    "def gen_other(n_top, df, field):\n",
    "\tkeys = list(df[field].value_counts().nlargest(int(n_top)).to_dict().keys())\n",
    "\tdf[field] = df[field].apply(lambda x:x if x in keys else 'other')"
   ]
  },
  {
   "cell_type": "code",
   "execution_count": 38,
   "metadata": {},
   "outputs": [],
   "source": [
    "ntop = 5 \n",
    "columns =['Department', 'Duration', 'Industry', 'Size', 'Gender', 'Year', 'Major', 'Most', 'Least']\n",
    "for column in columns:\n",
    "    gen_other(ntop, df, column)"
   ]
  },
  {
   "cell_type": "code",
   "execution_count": 39,
   "metadata": {},
   "outputs": [],
   "source": [
    "data_new1 = df[['Leave', 'Satisfaction','Salary']]"
   ]
  },
  {
   "cell_type": "code",
   "execution_count": 40,
   "metadata": {},
   "outputs": [],
   "source": [
    "for column in columns:\n",
    "\tdummy = pd.get_dummies(df[column])\n",
    "\tdata_new1 = pd.concat([data_new1, dummy], axis = 1)"
   ]
  },
  {
   "cell_type": "code",
   "execution_count": 41,
   "metadata": {},
   "outputs": [],
   "source": [
    "del df"
   ]
  },
  {
   "cell_type": "code",
   "execution_count": 42,
   "metadata": {},
   "outputs": [],
   "source": [
    "data_new1 = data_new1.drop(['other','Male','Female'], axis = 1)"
   ]
  },
  {
   "cell_type": "code",
   "execution_count": 43,
   "metadata": {},
   "outputs": [],
   "source": [
    "data_new1.to_excel('BA_New.xlsx')"
   ]
  }
 ],
 "metadata": {
  "kernelspec": {
   "display_name": "Python 3",
   "language": "python",
   "name": "python3"
  },
  "language_info": {
   "codemirror_mode": {
    "name": "ipython",
    "version": 3
   },
   "file_extension": ".py",
   "mimetype": "text/x-python",
   "name": "python",
   "nbconvert_exporter": "python",
   "pygments_lexer": "ipython3",
   "version": "3.7.1"
  }
 },
 "nbformat": 4,
 "nbformat_minor": 2
}
